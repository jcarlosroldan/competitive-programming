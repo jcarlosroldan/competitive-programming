{
 "cells": [
  {
   "cell_type": "code",
   "execution_count": 1,
   "metadata": {},
   "outputs": [
    {
     "name": "stdout",
     "output_type": "stream",
     "text": [
      "00000000: 1f8b 0808 c7c9 b060 0003 6865 7265 2d69  .......`..here-i\n",
      "00000010: 732d 7468 652d 706f 7369 7469 6f6e 005d  s-the-position.]\n",
      "00000020: 5441 b2db 200c dd73 0a0e e0f1 01b2 e934  TA.. ..s.......4\n",
      "00000030: 33cd 348b aeda 99bf e61b 6298 d828 03b8  3.4.......b..(..\n",
      "00000040: 1eef fe3e 5ca0 d7fb 27a9 2420 71fe 061b  ...>\\...'.$ q...\n",
      "00000050: 2421 3dbd 274e 0134 c8cf 8ffb 8196 332e  $!=.'N.4......3.\n",
      "00000060: 7950 fef3 e35f a2df 624a d6c5 8eb6 bfd5  yP..._..bJ......\n",
      "00000070: dc0b 81eb 4bc0 fdea 61ed c539 6154 a4bd  ....K...a..9aT..\n",
      "00000080: 9a26 f25e 03f8 511c 37fa 0f6e b489 8dab  .&.^..Q.7..n....\n",
      "00000090: a135 5a58 26fd c863 fe1a 4fc7 ef6c b426  .5ZX&..c..O..l.&\n",
      "000000a0: 985e 1c97 f4f0 cf8a 4e1e 19f2 e4ae ece9  .^......N.......\n",
      "000000b0: 282a 27cb 9b31 18c5 2131 4170 86b3 fd0a  (*'..1..!1Ap....\n",
      "000000c0: 3d7d 4e84 b217 7fd8 3183 6723 c6b1 7fc6  =}N.....1.g#....\n",
      "000000d0: b869 a232 efb3 4a09 93eb 5e9c 1606 7187  .i.2..J...^...q.\n",
      "000000e0: 0bad 5a85 2b06 1574 5e97 233f 9a50 d333  ..Z.+..t^.#?.P.3\n",
      "000000f0: c615 233b 51cd 1166 93dc 5caa d860 e110  ..#;Q..f..\\..`..\n",
      "00000100: f744 bc2a cfb5 2668 1d7c 22c9 c663 0547  .D.*..&h.|\"..c.G\n",
      "00000110: 33a8 2596 8614 eb40 3d2b 8434 b75d d3d4  3.%....@=+.4.]..\n",
      "00000120: edb6 f5e2 e7ab 6beb cd0a a184 8e9c ef5d  ......k........]\n",
      "00000130: 0d57 b6c2 f3ba fbaa 1886 abf5 15b6 2c13  .W............,.\n",
      "00000140: 9323 39e6 7919 6c09 d72d a5f1 d4ad cad5  .#9.y.l..-......\n",
      "00000150: 9e0e aaae e3c3 872e c073 97b3 a2cd 4dc5  .........s....M.\n",
      "00000160: e8fc 58f5 e5c7 ae29 8dd3 59a5 4953 3f8a  ..X....)..Y.IS?.\n",
      "00000170: 2ef2 beff f312 53bb a017 dfc9 eccd 5abc  ......S.......Z.\n",
      "00000180: 98c4 d515 ea06 a400 1db8 49b9 01a9 58e3  ..........I...X.\n",
      "00000190: 5260 61e6 4291 4bfb 503e e792 1958 8334  R`a.B.K.P>...X.4\n",
      "000001a0: 4c06 8518 4848 5098 21ce 778c ec94 57c5  L...HHP.!.w...W.\n",
      "000001b0: 8562 549b d1e5 f244 ddcb a806 baa1 686f  .bT....D......ho\n",
      "000001c0: 3655 082c 186a c413 b5bb 54f7 974c c09c  6U.,.j....T..L..\n",
      "000001d0: c5b9 4e19 5398 17af 4dc0 5445 11ab dd1a  ..N.S...M.TE....\n",
      "000001e0: 27f9 5cea 77fe da7d 1d88 ee31 f2fa cb25  '.\\.w..}...1...%\n",
      "000001f0: 386b 7b59 f27c 9f60 62cd 30c9 088f 3ad0  8k{Y.|.`b.0...:.\n",
      "00000200: f022 5d72 021c 701c 97c1 2a3f 18fe 4d4b  .\"]r..p...*?..MK\n",
      "00000210: f0c4 31cb 8dd9 e759 6973 f0d4 381f 3342  ..1....Yis..8.3B\n",
      "00000220: 0b93 a610 f012 91ed 9a22 b864 7990 6fd4  .........\".dy.o.\n",
      "00000230: 39a4 01fd 5fbd 3b89 2fd3 b7f2 3e1d 2437  9..._.;./...>.$7\n",
      "00000240: 38d1 53c2 f2a3 9be4 08a0 25d6 cf32 e391  8.S.......%..2..\n",
      "00000250: e824 35a4 3c0f 92a4 52d5 8a46 24eb 42af  .$5.<...R..F$.B.\n",
      "00000260: 16dd 7f01 24fd 3f10 2d4a de2b 0500 00    ....$.?.-J.+...\n",
      "\n"
     ]
    }
   ],
   "source": [
    "from simpler import load\n",
    "\n",
    "data = load('here-is-the-position')  # file gotten by entering in the link and using a Caesar rot of the hint as a password"
   ]
  },
  {
   "cell_type": "code",
   "execution_count": 114,
   "metadata": {},
   "outputs": [],
   "source": [
    "byte_str = ''.join(row.split(': ', 1)[1].rsplit('  ', 1)[0].replace(' ', '') for row in data.strip().split('\\n'))\n",
    "a = int(byte_str, 16).to_bytes(len(byte_str) // 2, 'big')\n",
    "with open('test.gz', 'wb') as f:\n",
    "\tf.write(a)  # this will unzip a passage from LOTR, looks like a red herring to me"
   ]
  },
  {
   "cell_type": "code",
   "execution_count": 125,
   "metadata": {},
   "outputs": [
    {
     "data": {
      "text/plain": [
       "b'Frodo \\xe2\\x80\\x8b: \\xe2\\x80\\x8bI \\xe2\\x80\\x8ccan\\xe2\\x80\\x99t \\xe2\\x80\\x8cdo \\xe2\\x80\\x8bthis, \\xe2\\x80\\x8cSam.\\n\\nSam \\xe2\\x80\\x8b: \\xe2\\x80\\x8bI \\xe2\\x80\\x8bknow.\\nIt\\xe2\\x80\\x99s \\xe2\\x80\\x8ball \\xe2\\x80\\x8cwrong\\nBy \\xe2\\x80\\x8crights \\xe2\\x80\\x8bwe \\xe2\\x80\\x8bshouldn\\xe2\\x80\\x99t \\xe2\\x80\\x8ceven \\xe2\\x80\\x8bbe \\xe2\\x80\\x8bhere.\\nBut \\xe2\\x80\\x8bwe \\xe2\\x80\\x8care.\\nIt\\xe2\\x80\\x99s \\xe2\\x80\\x8clike \\xe2\\x80\\x8bin \\xe2\\x80\\x8cthe \\xe2\\x80\\x8bgreat \\xe2\\x80\\x8bstories \\xe2\\x80\\x8bMr. \\xe2\\x80\\x8bFrodo.\\nThe \\xe2\\x80\\x8cones \\xe2\\x80\\x8cthat \\xe2\\x80\\x8creally \\xe2\\x80\\x8bmattered.\\nFull \\xe2\\x80\\x8bof \\xe2\\x80\\x8bdarkness \\xe2\\x80\\x8band \\xe2\\x80\\x8bdanger \\xe2\\x80\\x8cthey \\xe2\\x80\\x8cwere,\\nand \\xe2\\x80\\x8bsometimes \\xe2\\x80\\x8byou \\xe2\\x80\\x8bdidn\\xe2\\x80\\x99t \\xe2\\x80\\x8cwant \\xe2\\x80\\x8bto \\xe2\\x80\\x8bknow \\xe2\\x80\\x8cthe \\xe2\\x80\\x8cend.\\nBecause \\xe2\\x80\\x8bhow \\xe2\\x80\\x8ccould \\xe2\\x80\\x8bthe \\xe2\\x80\\x8cend \\xe2\\x80\\x8bbe \\xe2\\x80\\x8bhappy.\\nHow \\xe2\\x80\\x8ccould \\xe2\\x80\\x8cthe \\xe2\\x80\\x8bworld \\xe2\\x80\\x8bgo \\xe2\\x80\\x8bback \\xe2\\x80\\x8cto \\xe2\\x80\\x8bthe \\xe2\\x80\\x8bway \\xe2\\x80\\x8cit \\xe2\\x80\\x8cwas \\xe2\\x80\\x8bwhen \\xe2\\x80\\x8cso \\xe2\\x80\\x8cmuch \\xe2\\x80\\x8bbad \\xe2\\x80\\x8bhappened.\\nBut \\xe2\\x80\\x8bin \\xe2\\x80\\x8cthe \\xe2\\x80\\x8cend, \\xe2\\x80\\x8bit\\xe2\\x80\\x99s \\xe2\\x80\\x8bonly \\xe2\\x80\\x8ca \\xe2\\x80\\x8bpassing \\xe2\\x80\\x8bthing, \\xe2\\x80\\x8bthis \\xe2\\x80\\x8cshadow.\\nEven \\xe2\\x80\\x8cdarkness \\xe2\\x80\\x8bmust \\xe2\\x80\\x8bpass.\\nA \\xe2\\x80\\x8cnew \\xe2\\x80\\x8cday \\xe2\\x80\\x8bwill \\xe2\\x80\\x8bcome.\\nAnd \\xe2\\x80\\x8cwhen \\xe2\\x80\\x8cthe \\xe2\\x80\\x8bsun \\xe2\\x80\\x8cshines \\xe2\\x80\\x8bit \\xe2\\x80\\x8bwill \\xe2\\x80\\x8bshine \\xe2\\x80\\x8bout \\xe2\\x80\\x8cthe \\xe2\\x80\\x8cclearer.\\nThose \\xe2\\x80\\x8bwere \\xe2\\x80\\x8bthe \\xe2\\x80\\x8cstories \\xe2\\x80\\x8bthat \\xe2\\x80\\x8bstayed \\xe2\\x80\\x8bwith \\xe2\\x80\\x8cyou.\\nThat \\xe2\\x80\\x8cmeant \\xe2\\x80\\x8bsomething.\\nEven \\xe2\\x80\\x8cif \\xe2\\x80\\x8cyou \\xe2\\x80\\x8bwere \\xe2\\x80\\x8btoo \\xe2\\x80\\x8bsmall \\xe2\\x80\\x8cto \\xe2\\x80\\x8cunderstand \\xe2\\x80\\x8bwhy.\\nBut \\xe2\\x80\\x8cI \\xe2\\x80\\x8cthink, \\xe2\\x80\\x8bMr. \\xe2\\x80\\x8bFrodo, \\xe2\\x80\\x8bI \\xe2\\x80\\x8cdo \\xe2\\x80\\x8cunderstand.\\nI \\xe2\\x80\\x8bknow \\xe2\\x80\\x8cnow.\\nFolk \\xe2\\x80\\x8cin \\xe2\\x80\\x8bthose stories had lots of chances of turning back only they didn\\xe2\\x80\\x99t.\\nBecause they were holding on to something.\\n\\nFrodo : What are we holding on to, Sam?\\n\\nSam : That there\\xe2\\x80\\x99s some good in this world, Mr. Frodo. And it\\xe2\\x80\\x99s worth fighting for.\\n'"
      ]
     },
     "execution_count": 125,
     "metadata": {},
     "output_type": "execute_result"
    }
   ],
   "source": [
    "b = ''.join(row.split(': ', 1)[1].rsplit('  ', 1)[1] for row in data.strip().split('\\n')).encode().replace(b'.', b'\\x00')\n",
    "c = bytes(bytearray(aa if bb == 0 else ord('.') for aa, bb in zip(a, b)))\n",
    "with open('test2.gz', 'wb') as f:\n",
    "\tf.write(c)\n",
    "with open('here-is-the-position.txt', 'rb') as f:\n",
    "\td = f.read()\n",
    "d"
   ]
  },
  {
   "cell_type": "code",
   "execution_count": 148,
   "metadata": {},
   "outputs": [],
   "source": [
    "from itertools import permutations\n",
    "\n",
    "from re import findall\n",
    "x = ''.join('0' if c == b'\\x8b' else '1' for c in findall(b'\\xe2\\x80(\\x8b|\\x8c)', d))\n",
    "with open('res.txt', 'w') as fp:\n",
    "\tfp.write(''.join(chr(int(x[off:off + 8], 2)) for off in range(0, len(x), 8)))"
   ]
  }
 ],
 "metadata": {
  "interpreter": {
   "hash": "63fd5069d213b44bf678585dea6b12cceca9941eaf7f819626cde1f2670de90d"
  },
  "kernelspec": {
   "display_name": "Python 3.9.1 64-bit",
   "language": "python",
   "name": "python3"
  },
  "language_info": {
   "codemirror_mode": {
    "name": "ipython",
    "version": 3
   },
   "file_extension": ".py",
   "mimetype": "text/x-python",
   "name": "python",
   "nbconvert_exporter": "python",
   "pygments_lexer": "ipython3",
   "version": "3.9.1"
  },
  "orig_nbformat": 4
 },
 "nbformat": 4,
 "nbformat_minor": 2
}
