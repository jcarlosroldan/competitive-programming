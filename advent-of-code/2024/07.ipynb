{
 "cells": [
  {
   "cell_type": "code",
   "execution_count": 1,
   "metadata": {},
   "outputs": [],
   "source": [
    "from simpler import load\n",
    "\n",
    "data = load('7.txt')\n",
    "equations = []\n",
    "for row in data.strip().split('\\n'):\n",
    "\tleft, right = row.split(': ')\n",
    "\tequations.append((int(left), tuple(map(int, right.split(' ')))))"
   ]
  },
  {
   "cell_type": "code",
   "execution_count": 2,
   "metadata": {},
   "outputs": [
    {
     "data": {
      "text/plain": [
       "3245122495150"
      ]
     },
     "execution_count": 2,
     "metadata": {},
     "output_type": "execute_result"
    }
   ],
   "source": [
    "def is_possible(left, right):\n",
    "\tif len(right) == 1: return left == right[0]\n",
    "\treturn is_possible(left, (right[0] + right[1], *right[2:])) or is_possible(left, (right[0] * right[1], *right[2:]))\n",
    "\n",
    "res = 0\n",
    "for eq in equations:\n",
    "\tif is_possible(*eq):\n",
    "\t\tres += eq[0]\n",
    "res"
   ]
  },
  {
   "cell_type": "code",
   "execution_count": 3,
   "metadata": {},
   "outputs": [
    {
     "data": {
      "text/plain": [
       "105517128211543"
      ]
     },
     "execution_count": 3,
     "metadata": {},
     "output_type": "execute_result"
    }
   ],
   "source": [
    "def is_possible(left, right):\n",
    "\tif len(right) == 1: return left == right[0]\n",
    "\tif right[0] > left: return False  # all ops increase\n",
    "\treturn is_possible(left, (right[0] + right[1], *right[2:])) \\\n",
    "\t\tor is_possible(left, (right[0] * right[1], *right[2:])) \\\n",
    "\t\tor is_possible(left, (int(str(right[0]) + str(right[1])), *right[2:]))\n",
    "\n",
    "res = 0\n",
    "for eq in equations:\n",
    "\tif is_possible(*eq):\n",
    "\t\tres += eq[0]\n",
    "res"
   ]
  }
 ],
 "metadata": {
  "kernelspec": {
   "display_name": "Python 3",
   "language": "python",
   "name": "python3"
  },
  "language_info": {
   "codemirror_mode": {
    "name": "ipython",
    "version": 3
   },
   "file_extension": ".py",
   "mimetype": "text/x-python",
   "name": "python",
   "nbconvert_exporter": "python",
   "pygments_lexer": "ipython3",
   "version": "3.11.8"
  }
 },
 "nbformat": 4,
 "nbformat_minor": 2
}
