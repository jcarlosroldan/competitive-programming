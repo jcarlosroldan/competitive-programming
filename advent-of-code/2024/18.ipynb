{
 "cells": [
  {
   "cell_type": "code",
   "execution_count": 1,
   "metadata": {},
   "outputs": [],
   "source": [
    "from simpler import load\n",
    "\n",
    "data = '5,4\\n4,2\\n4,5\\n3,0\\n2,1\\n6,3\\n2,4\\n1,5\\n0,6\\n3,3\\n2,6\\n5,1\\n1,2\\n5,5\\n2,5\\n6,5\\n1,4\\n0,4\\n6,4\\n1,1\\n6,1\\n1,0\\n0,5\\n1,6\\n2,0'\n",
    "data = load('18.txt')\n",
    "points = tuple(tuple(map(int, line.split(','))) for line in data.strip().split('\\n'))"
   ]
  },
  {
   "cell_type": "code",
   "execution_count": 2,
   "metadata": {},
   "outputs": [
    {
     "data": {
      "text/plain": [
       "436"
      ]
     },
     "execution_count": 2,
     "metadata": {},
     "output_type": "execute_result"
    }
   ],
   "source": [
    "from networkx import grid_2d_graph\n",
    "from networkx import shortest_path_length\n",
    "\n",
    "SIZE = 71\n",
    "\n",
    "board = grid_2d_graph(SIZE, SIZE)\n",
    "for p in points[:1024]: board.remove_node(p)\n",
    "shortest_path_length(board, (0, 0), (SIZE - 1, SIZE - 1))"
   ]
  },
  {
   "cell_type": "code",
   "execution_count": 3,
   "metadata": {},
   "outputs": [
    {
     "name": "stdout",
     "output_type": "stream",
     "text": [
      "61,50\n"
     ]
    }
   ],
   "source": [
    "from networkx import has_path\n",
    "\n",
    "board = grid_2d_graph(SIZE, SIZE)\n",
    "for p in points:  # takes 7 seconds, not enough to overoptimize and use bisect\n",
    "\tboard.remove_node(p)\n",
    "\tif not has_path(board, (0, 0), (SIZE - 1, SIZE - 1)):\n",
    "\t\tprint(f'{p[0]},{p[1]}')\n",
    "\t\tbreak"
   ]
  }
 ],
 "metadata": {
  "kernelspec": {
   "display_name": "Python 3",
   "language": "python",
   "name": "python3"
  },
  "language_info": {
   "codemirror_mode": {
    "name": "ipython",
    "version": 3
   },
   "file_extension": ".py",
   "mimetype": "text/x-python",
   "name": "python",
   "nbconvert_exporter": "python",
   "pygments_lexer": "ipython3",
   "version": "3.11.8"
  }
 },
 "nbformat": 4,
 "nbformat_minor": 2
}
