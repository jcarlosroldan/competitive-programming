{
 "cells": [
  {
   "cell_type": "code",
   "execution_count": 1,
   "metadata": {},
   "outputs": [],
   "source": [
    "from re import findall\n",
    "from simpler import load\n",
    "\n",
    "data = load('14.txt')\n",
    "robots = [tuple(map(int, r)) for r in findall(r'=(\\-?\\d+),(\\-?\\d+) v=(\\-?\\d+),(\\-?\\d+)', data)]"
   ]
  },
  {
   "cell_type": "code",
   "execution_count": 2,
   "metadata": {},
   "outputs": [
    {
     "data": {
      "text/plain": [
       "226548000"
      ]
     },
     "execution_count": 2,
     "metadata": {},
     "output_type": "execute_result"
    }
   ],
   "source": [
    "W, H = 101, 103\n",
    "\n",
    "def move(robots, t):\n",
    "\treturn [((x + vx * t) % W, (y + vy * t) % H, vx, vy) for x, y, vx, vy in robots]\n",
    "\n",
    "def quadrant(x, y):\n",
    "\treturn 1 if x < W // 2 and y < H // 2 else (2 if x > W // 2 and y < H // 2 else (3 if x < W // 2 and y > H // 2 else (4 if x > W // 2 and y > H // 2 else None)))\n",
    "\n",
    "quadrants = [quadrant(x, y) for x, y, *_ in move(robots, 100)]\n",
    "quadrants = [quadrants.count(n) for n in range(1, 5)]\n",
    "quadrants[0] * quadrants[1] * quadrants[2] * quadrants[3]"
   ]
  },
  {
   "cell_type": "code",
   "execution_count": 3,
   "metadata": {},
   "outputs": [
    {
     "data": {
      "text/plain": [
       "7753"
      ]
     },
     "execution_count": 3,
     "metadata": {},
     "output_type": "execute_result"
    }
   ],
   "source": [
    "def dispersion(robots):\n",
    "\tavg = sum(r[0] for r in robots) / len(robots), sum(r[1] for r in robots) / len(robots)\n",
    "\treturn sum(((r[0] - avg[0]) ** 2 + (r[1] - avg[1]) ** 2)**.5 for r in robots) / len(robots)\n",
    "\n",
    "def min_dispersion(robots, max_t):\n",
    "\tmin_t, min_d = 0, float('inf')\n",
    "\tfor t in range(max_t):\n",
    "\t\td = dispersion(robots)\n",
    "\t\tif d < min_d:\n",
    "\t\t\tmin_t, min_d = t, d\n",
    "\t\trobots = move(robots, 1)\n",
    "\treturn min_t\n",
    "\n",
    "min_dispersion(robots, 10000)"
   ]
  },
  {
   "cell_type": "code",
   "execution_count": 4,
   "metadata": {},
   "outputs": [
    {
     "data": {
      "image/png": "[encoded data removed]",
      "text/plain": [
       "<Figure size 640x480 with 1 Axes>"
      ]
     },
     "metadata": {},
     "output_type": "display_data"
    }
   ],
   "source": [
    "from matplotlib import pyplot as plt\n",
    "from PIL import Image\n",
    "\n",
    "def draw(robots):\n",
    "\timg = Image.new('RGB', (W, H), 'white')\n",
    "\tfor x, y, *_ in robots:\n",
    "\t\timg.putpixel((x, y), (0, 0, 0))\n",
    "\tplt.imshow(img)\n",
    "\tplt.show()\n",
    "\n",
    "draw(move(robots, 7753))"
   ]
  },
  {
   "cell_type": "code",
   "execution_count": null,
   "metadata": {},
   "outputs": [],
   "source": []
  }
 ],
 "metadata": {
  "kernelspec": {
   "display_name": "Python 3",
   "language": "python",
   "name": "python3"
  },
  "language_info": {
   "codemirror_mode": {
    "name": "ipython",
    "version": 3
   },
   "file_extension": ".py",
   "mimetype": "text/x-python",
   "name": "python",
   "nbconvert_exporter": "python",
   "pygments_lexer": "ipython3",
   "version": "3.11.8"
  }
 },
 "nbformat": 4,
 "nbformat_minor": 2
}
