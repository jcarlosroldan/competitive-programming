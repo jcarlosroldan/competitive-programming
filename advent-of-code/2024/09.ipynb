{
 "cells": [
  {
   "cell_type": "code",
   "execution_count": 1,
   "metadata": {},
   "outputs": [],
   "source": [
    "from simpler import load\n",
    "\n",
    "data = load('9.txt').strip()"
   ]
  },
  {
   "cell_type": "code",
   "execution_count": 2,
   "metadata": {},
   "outputs": [
    {
     "data": {
      "text/plain": [
       "6283170117911"
      ]
     },
     "execution_count": 2,
     "metadata": {},
     "output_type": "execute_result"
    }
   ],
   "source": [
    "f = 0  # next file id\n",
    "disk = []\n",
    "for d, length in enumerate(data):\n",
    "\tif d % 2 == 0:\n",
    "\t\tdisk.extend([f] * int(length))\n",
    "\t\tf += 1\n",
    "\telse:\n",
    "\t\tdisk.extend([None] * int(length))\n",
    "\n",
    "e = 1  # empty candidate pointer\n",
    "n = len(disk) - 1  # non-empty candidate pointer\n",
    "while e < n:\n",
    "\tif disk[n] is None:\n",
    "\t\tn -= 1\n",
    "\telse:\n",
    "\t\tif disk[e] is None:\n",
    "\t\t\tdisk[e], disk[n] = disk[n], None\n",
    "\t\te += 1\n",
    "\n",
    "sum(n * v for n, v in enumerate(disk) if v is not None)"
   ]
  },
  {
   "cell_type": "code",
   "execution_count": 3,
   "metadata": {},
   "outputs": [
    {
     "data": {
      "text/plain": [
       "6307653242596"
      ]
     },
     "execution_count": 3,
     "metadata": {},
     "output_type": "execute_result"
    }
   ],
   "source": [
    "disk = []\n",
    "spaces = []\n",
    "files = []\n",
    "\n",
    "offset = 0  # current byte offset\n",
    "f = 0\n",
    "\n",
    "for d, length in enumerate(data):\n",
    "    length = int(length)\n",
    "    if length == 0: continue\n",
    "    if d % 2 == 0:\n",
    "        files.append((offset, length))\n",
    "        disk.extend([f] * length)\n",
    "        f += 1\n",
    "    else:\n",
    "        spaces.append((offset, length))\n",
    "        disk.extend([None] * length)\n",
    "    offset += length\n",
    "\n",
    "for f, (offset, length) in reversed(list(enumerate(files))):\n",
    "    for s, (space_offset, space_length) in enumerate(spaces):\n",
    "        if space_offset > offset: break\n",
    "        if space_length >= length:\n",
    "            disk[space_offset:space_offset + length] = [f] * length\n",
    "            disk[offset:offset + length] = [None] * length\n",
    "            if space_length > length:\n",
    "                spaces[s] = (space_offset + length, space_length - length)\n",
    "            else:\n",
    "                del spaces[s]\n",
    "            break\n",
    "\n",
    "sum(i * block for i, block in enumerate(disk) if block is not None)"
   ]
  }
 ],
 "metadata": {
  "kernelspec": {
   "display_name": "Python 3",
   "language": "python",
   "name": "python3"
  },
  "language_info": {
   "codemirror_mode": {
    "name": "ipython",
    "version": 3
   },
   "file_extension": ".py",
   "mimetype": "text/x-python",
   "name": "python",
   "nbconvert_exporter": "python",
   "pygments_lexer": "ipython3",
   "version": "3.11.8"
  }
 },
 "nbformat": 4,
 "nbformat_minor": 2
}
