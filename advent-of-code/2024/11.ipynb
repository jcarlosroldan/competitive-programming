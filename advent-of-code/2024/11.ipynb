{
 "cells": [
  {
   "cell_type": "code",
   "execution_count": 1,
   "metadata": {},
   "outputs": [],
   "source": [
    "from simpler import load\n",
    "\n",
    "data = load('11.txt')\n",
    "stones = list(map(int, data.strip().split(' ')))"
   ]
  },
  {
   "cell_type": "code",
   "execution_count": 2,
   "metadata": {},
   "outputs": [
    {
     "data": {
      "text/plain": [
       "185205"
      ]
     },
     "execution_count": 2,
     "metadata": {},
     "output_type": "execute_result"
    }
   ],
   "source": [
    "from math import log10\n",
    "from functools import cache\n",
    "\n",
    "@cache\n",
    "def after(stone, blinks):\n",
    "\tif blinks == 0: return 1\n",
    "\tif stone == 0: return after(1, blinks - 1)\n",
    "\tdigits = int(log10(stone)) + 1\n",
    "\tmask = 10**(digits // 2)\n",
    "\tif digits % 2 == 0:\n",
    "\t\treturn after(stone // mask, blinks - 1) + after(stone % mask, blinks - 1)\n",
    "\telse:\n",
    "\t\treturn after(stone * 2024, blinks - 1)\n",
    "\n",
    "sum(after(s, 25) for s in stones)"
   ]
  },
  {
   "cell_type": "code",
   "execution_count": 3,
   "metadata": {},
   "outputs": [
    {
     "data": {
      "text/plain": [
       "221280540398419"
      ]
     },
     "execution_count": 3,
     "metadata": {},
     "output_type": "execute_result"
    }
   ],
   "source": [
    "sum(after(s, 75) for s in stones)"
   ]
  }
 ],
 "metadata": {
  "kernelspec": {
   "display_name": "Python 3",
   "language": "python",
   "name": "python3"
  },
  "language_info": {
   "codemirror_mode": {
    "name": "ipython",
    "version": 3
   },
   "file_extension": ".py",
   "mimetype": "text/x-python",
   "name": "python",
   "nbconvert_exporter": "python",
   "pygments_lexer": "ipython3",
   "version": "3.11.8"
  }
 },
 "nbformat": 4,
 "nbformat_minor": 2
}
