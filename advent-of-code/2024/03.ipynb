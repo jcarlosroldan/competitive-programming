{
 "cells": [
  {
   "cell_type": "code",
   "execution_count": 1,
   "metadata": {},
   "outputs": [],
   "source": [
    "from simpler import load\n",
    "\n",
    "data = load('3.txt')"
   ]
  },
  {
   "cell_type": "code",
   "execution_count": 2,
   "metadata": {},
   "outputs": [
    {
     "data": {
      "text/plain": [
       "166630675"
      ]
     },
     "execution_count": 2,
     "metadata": {},
     "output_type": "execute_result"
    }
   ],
   "source": [
    "from re import compile\n",
    "\n",
    "REGEX_MUL = compile(r'mul\\((\\d+),(\\d+)\\)')\n",
    "\n",
    "sum(int(o1) * int(o2) for o1, o2 in REGEX_MUL.findall(data))"
   ]
  },
  {
   "cell_type": "code",
   "execution_count": 3,
   "metadata": {},
   "outputs": [
    {
     "data": {
      "text/plain": [
       "93465710"
      ]
     },
     "execution_count": 3,
     "metadata": {},
     "output_type": "execute_result"
    }
   ],
   "source": [
    "from re import compile\n",
    "\n",
    "REGEX_OP = compile(r'mul\\(\\d+,\\d+\\)|do(?:n\\'t)?\\(\\)')\n",
    "\n",
    "res = 0\n",
    "enabled = True\n",
    "for op in REGEX_OP.findall(data):\n",
    "\top, params = op.split('(')\n",
    "\tif op == 'do':\n",
    "\t\tenabled = True\n",
    "\telif op == 'don\\'t':\n",
    "\t\tenabled = False\n",
    "\telif enabled:\n",
    "\t\to1, o2 = params[:-1].split(',')\n",
    "\t\tres += int(o1) * int(o2)\n",
    "res"
   ]
  }
 ],
 "metadata": {
  "kernelspec": {
   "display_name": "Python 3",
   "language": "python",
   "name": "python3"
  },
  "language_info": {
   "codemirror_mode": {
    "name": "ipython",
    "version": 3
   },
   "file_extension": ".py",
   "mimetype": "text/x-python",
   "name": "python",
   "nbconvert_exporter": "python",
   "pygments_lexer": "ipython3",
   "version": "3.11.8"
  }
 },
 "nbformat": 4,
 "nbformat_minor": 2
}
