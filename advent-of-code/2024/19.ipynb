{
 "cells": [
  {
   "cell_type": "code",
   "execution_count": 1,
   "metadata": {},
   "outputs": [],
   "source": [
    "from simpler import load\n",
    "\n",
    "data = '''\n",
    "r, wr, b, g, bwu, rb, gb, br\n",
    "\n",
    "brwrr\n",
    "bggr\n",
    "gbbr\n",
    "rrbgbr\n",
    "ubwu\n",
    "bwurrg\n",
    "brgr\n",
    "bbrgwb'''\n",
    "data = load('19.txt')\n",
    "stripes, towels = data.strip().split('\\n\\n')\n",
    "stripes = stripes.split(', ')\n",
    "towels = towels.split('\\n')"
   ]
  },
  {
   "cell_type": "code",
   "execution_count": 2,
   "metadata": {},
   "outputs": [
    {
     "data": {
      "text/plain": [
       "327"
      ]
     },
     "execution_count": 2,
     "metadata": {},
     "output_type": "execute_result"
    }
   ],
   "source": [
    "from functools import cache\n",
    "\n",
    "@cache\n",
    "def can_compose(towel):\n",
    "\tfor s in stripes:\n",
    "\t\tif towel == s or towel.startswith(s) and can_compose(towel[len(s):]):\n",
    "\t\t\treturn True\n",
    "\treturn False\n",
    "\n",
    "sum(1 for t in towels if can_compose(t))"
   ]
  },
  {
   "cell_type": "code",
   "execution_count": 3,
   "metadata": {},
   "outputs": [
    {
     "data": {
      "text/plain": [
       "772696486795255"
      ]
     },
     "execution_count": 3,
     "metadata": {},
     "output_type": "execute_result"
    }
   ],
   "source": [
    "@cache\n",
    "def num_ways(towel):\n",
    "\tres = 0\n",
    "\tfor s in stripes:\n",
    "\t\tif towel == s: res += 1\n",
    "\t\tif towel.startswith(s): res += num_ways(towel[len(s):])\n",
    "\treturn res\n",
    "\n",
    "sum(num_ways(t) for t in towels)"
   ]
  }
 ],
 "metadata": {
  "kernelspec": {
   "display_name": "Python 3",
   "language": "python",
   "name": "python3"
  },
  "language_info": {
   "codemirror_mode": {
    "name": "ipython",
    "version": 3
   },
   "file_extension": ".py",
   "mimetype": "text/x-python",
   "name": "python",
   "nbconvert_exporter": "python",
   "pygments_lexer": "ipython3",
   "version": "3.12.7"
  }
 },
 "nbformat": 4,
 "nbformat_minor": 2
}
