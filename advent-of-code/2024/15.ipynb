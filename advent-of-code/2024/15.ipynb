{
 "cells": [
  {
   "cell_type": "code",
   "execution_count": 1,
   "metadata": {},
   "outputs": [],
   "source": [
    "from simpler import load\n",
    "\n",
    "data = load('15.txt')\n",
    "board, moves = data.strip().split('\\n\\n')\n",
    "board = [list(row) for row in board.split('\\n')]\n",
    "moves = moves.replace('\\n', '')"
   ]
  },
  {
   "cell_type": "code",
   "execution_count": 2,
   "metadata": {},
   "outputs": [
    {
     "name": "stdout",
     "output_type": "stream",
     "text": [
      "1486930\n"
     ]
    }
   ],
   "source": [
    "MOVES = {'^': (0, -1), 'v': (0, 1), '<': (-1, 0), '>': (1, 0)}\n",
    "\n",
    "x, y = next((x, y) for y, row in enumerate(board) for x, cell in enumerate(row) if cell == '@')\n",
    "\n",
    "def try_move(x, y, direction):  # tries to move the object in the given direction, and returns has_moved, new_x, new_y\n",
    "\tnx, ny = x + MOVES[direction][0], y + MOVES[direction][1]\n",
    "\tif board[ny][nx] == '.':\n",
    "\t\tboard[ny][nx] = board[y][x]\n",
    "\t\tboard[y][x] = '.'\n",
    "\t\treturn True, nx, ny\n",
    "\tif board[ny][nx] == 'O' and try_move(nx, ny, direction)[0]:\n",
    "\t\tboard[ny][nx] = board[y][x]\n",
    "\t\tboard[y][x] = '.'\n",
    "\t\treturn True, nx, ny\n",
    "\treturn False, x, y\n",
    "\n",
    "for move in moves:\n",
    "\thas_moved, nx, ny = try_move(x, y, move)\n",
    "\tif has_moved: x, y = nx, ny\n",
    "\n",
    "def checksum(board):\n",
    "\tboxes = [(x, y) for y, row in enumerate(board) for x, cell in enumerate(row) if cell == 'O']\n",
    "\treturn sum(x + y * 100 for x, y in boxes)\n",
    "\n",
    "print(checksum(board))"
   ]
  },
  {
   "cell_type": "code",
   "execution_count": 3,
   "metadata": {},
   "outputs": [],
   "source": [
    "data = load('15.txt')\n",
    "\n",
    "board, moves = data.strip().split('\\n\\n')\n",
    "board = [list(row.replace('#', '##').replace('O', '[]').replace('.', '..').replace('@', '@.')) for row in board.split('\\n')]\n",
    "moves = moves.replace('\\n', '')"
   ]
  },
  {
   "cell_type": "code",
   "execution_count": 4,
   "metadata": {},
   "outputs": [],
   "source": [
    "x, y = next((x, y) for y, row in enumerate(board) for x, cell in enumerate(row) if cell == '@')\n",
    "\n",
    "def can_move(x, y, direction):\n",
    "\tnx, ny = x + MOVES[direction][0], y + MOVES[direction][1]\n",
    "\tif board[ny][nx] == '.':\n",
    "\t\treturn True\n",
    "\telif board[ny][nx] == '[':\n",
    "\t\treturn can_move(nx, ny, direction) and (direction in '<>' or can_move(nx + 1, ny, direction))\n",
    "\telif board[ny][nx] == ']':\n",
    "\t\treturn can_move(nx, ny, direction) and (direction in '<>' or can_move(nx - 1, ny, direction))\n",
    "\treturn False\n",
    "\n",
    "def move(x, y, direction):\n",
    "\tnx, ny = x + MOVES[direction][0], y + MOVES[direction][1]\n",
    "\tif board[ny][nx] in '[]':\n",
    "\t\tif direction in '^v':\n",
    "\t\t\tmove(nx + 1 if board[ny][nx] == '[' else nx - 1, ny, direction)\n",
    "\t\tmove(nx, ny, direction)\n",
    "\tboard[y][x], board[ny][nx] = '.', board[y][x]"
   ]
  },
  {
   "cell_type": "code",
   "execution_count": 5,
   "metadata": {},
   "outputs": [
    {
     "name": "stdout",
     "output_type": "stream",
     "text": [
      "1492011\n"
     ]
    }
   ],
   "source": [
    "for direction in moves:\n",
    "\tif can_move(x, y, direction):\n",
    "\t\tmove(x, y, direction)\n",
    "\t\tx, y = x + MOVES[direction][0], y + MOVES[direction][1]\n",
    "\n",
    "def checksum(board):\n",
    "\tboxes = [(x, y) for y, row in enumerate(board) for x, cell in enumerate(row) if cell == '[']\n",
    "\treturn sum(x + y * 100 for x, y in boxes)\n",
    "\n",
    "print(checksum(board))"
   ]
  }
 ],
 "metadata": {
  "kernelspec": {
   "display_name": "Python 3",
   "language": "python",
   "name": "python3"
  },
  "language_info": {
   "codemirror_mode": {
    "name": "ipython",
    "version": 3
   },
   "file_extension": ".py",
   "mimetype": "text/x-python",
   "name": "python",
   "nbconvert_exporter": "python",
   "pygments_lexer": "ipython3",
   "version": "3.11.8"
  }
 },
 "nbformat": 4,
 "nbformat_minor": 2
}
