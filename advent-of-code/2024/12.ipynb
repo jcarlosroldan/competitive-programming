{
 "cells": [
  {
   "cell_type": "code",
   "execution_count": 1,
   "metadata": {},
   "outputs": [],
   "source": [
    "from simpler import load\n",
    "\n",
    "data = load('12.txt')\n",
    "board = data.strip().split('\\n')"
   ]
  },
  {
   "cell_type": "code",
   "execution_count": 2,
   "metadata": {},
   "outputs": [
    {
     "data": {
      "text/plain": [
       "1461806"
      ]
     },
     "execution_count": 2,
     "metadata": {},
     "output_type": "execute_result"
    }
   ],
   "source": [
    "NEIGHBORS = (-1, 0), (0, -1), (0, 1), (1, 0)\n",
    "\n",
    "cells = {}  # (r, c): (region, [up_wall?, left_wall?, right_wall?, down_wall?])\n",
    "regions = {}  # region: [(r, c), ...]\n",
    "\n",
    "# assign each cell its own region and find its walls\n",
    "for r in range(len(board)):\n",
    "\tfor c in range(len(board[0])):\n",
    "\t\tregion = r * len(board[0]) + c\n",
    "\t\twalls = []\n",
    "\t\tfor r_off, c_off in NEIGHBORS:\n",
    "\t\t\tnr, nc = r + r_off, c + c_off\n",
    "\t\t\twalls.append(nr == -1 or nc == -1 or nr == len(board) or nc == len(board[0]) or board[nr][nc] != board[r][c])\n",
    "\t\tcells[r, c] = [region, walls]\n",
    "\t\tregions[region] = [(r, c)]\n",
    "\n",
    "# merge regions with the same crop\n",
    "for r in range(len(board)):\n",
    "\tfor c in range(len(board[0])):\n",
    "\t\tid = cells[r, c][0]\n",
    "\t\tfor r_off, c_off in NEIGHBORS[:2]:\n",
    "\t\t\tnr, nc = r + r_off, c + c_off\n",
    "\t\t\tif nr < 0 or nc < 0: continue\n",
    "\t\t\tnid = cells[nr, nc][0]\n",
    "\t\t\tif board[r][c] == board[nr][nc] and id != nid:\n",
    "\t\t\t\tnew_id, old_id = min(id, nid), max(id, nid)\n",
    "\t\t\t\tfor cell in regions[old_id]: cells[cell][0] = new_id\n",
    "\t\t\t\tregions[new_id] += regions[old_id]\n",
    "\t\t\t\tdel regions[old_id]\n",
    "\t\t\t\tid = new_id\n",
    "\n",
    "sum(len(cs) * sum(sum(cells[c][1]) for c in cs) for cs in regions.values())"
   ]
  },
  {
   "cell_type": "code",
   "execution_count": 3,
   "metadata": {},
   "outputs": [
    {
     "data": {
      "text/plain": [
       "887932"
      ]
     },
     "execution_count": 3,
     "metadata": {},
     "output_type": "execute_result"
    }
   ],
   "source": [
    "for region, cs in regions.items():\n",
    "\tprev = None\n",
    "\tfor cell in sorted(cs):\n",
    "\t\tif prev is not None and prev[0] == cell[0] and prev[1] == cell[1] - 1:  # if the previous was at the left\n",
    "\t\t\tif cells[cell][1][0] and cells[prev][1][0] is not False:\n",
    "\t\t\t\tcells[cell][1][0] = None  # if it had an upper wall, this one is part of the same wall\n",
    "\t\t\tif cells[cell][1][3] and cells[prev][1][3] is not False:\n",
    "\t\t\t\tcells[cell][1][3] = None  # if it had a lower wall, the previous one is part of the same wall\n",
    "\t\tprev = cell\n",
    "\tprev = None\n",
    "\tfor cell in sorted(cs, key=lambda c: (c[1], c[0])):\n",
    "\t\tif prev is not None and prev[0] == cell[0] - 1 and prev[1] == cell[1]:  # if the previous was at the top\n",
    "\t\t\tif cells[cell][1][1] and cells[prev][1][1] is not False:\n",
    "\t\t\t\tcells[cell][1][1] = None  # if it had a left wall, this one is part of the same wall\n",
    "\t\t\tif cells[cell][1][2] and cells[prev][1][2] is not False:\n",
    "\t\t\t\tcells[cell][1][2] = None  # if it had a right wall, the previous one is part of the same wall\n",
    "\t\tprev = cell\n",
    "\n",
    "sum(len(cs) * sum(sum(1 for w in cells[c][1] if w) for c in cs) for cs in regions.values())"
   ]
  }
 ],
 "metadata": {
  "kernelspec": {
   "display_name": "Python 3",
   "language": "python",
   "name": "python3"
  },
  "language_info": {
   "codemirror_mode": {
    "name": "ipython",
    "version": 3
   },
   "file_extension": ".py",
   "mimetype": "text/x-python",
   "name": "python",
   "nbconvert_exporter": "python",
   "pygments_lexer": "ipython3",
   "version": "3.11.8"
  }
 },
 "nbformat": 4,
 "nbformat_minor": 2
}
