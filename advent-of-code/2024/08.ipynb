{
 "cells": [
  {
   "cell_type": "code",
   "execution_count": 1,
   "metadata": {},
   "outputs": [],
   "source": [
    "from simpler import load\n",
    "\n",
    "data = load('8.txt')\n",
    "board = data.strip().split('\\n')\n",
    "channels = {}\n",
    "for r, row in enumerate(board):\n",
    "\tfor c, cell in enumerate(row):\n",
    "\t\tif cell != '.':\n",
    "\t\t\tchannels.setdefault(cell, []).append((r, c))"
   ]
  },
  {
   "cell_type": "code",
   "execution_count": 2,
   "metadata": {},
   "outputs": [
    {
     "name": "stdout",
     "output_type": "stream",
     "text": [
      "261\n"
     ]
    }
   ],
   "source": [
    "res = set()\n",
    "for ch, antennas in channels.items():\n",
    "\tfor s, a1 in enumerate(antennas):\n",
    "\t\tfor a2 in antennas[s + 1:]:\n",
    "\t\t\tdiff = a2[0] - a1[0], a2[1] - a1[1]\n",
    "\t\t\tfor p in (a1, a2):\n",
    "\t\t\t\tq = a2 if p == a1 else a1\n",
    "\t\t\t\ttest = (2*p[0] - q[0], 2*p[1] - q[1])\n",
    "\t\t\t\tif 0 <= test[0] < len(board) and 0 <= test[1] < len(board[0]):\n",
    "\t\t\t\t\tres.add(test)\n",
    "print(len(res))"
   ]
  },
  {
   "cell_type": "code",
   "execution_count": 3,
   "metadata": {},
   "outputs": [
    {
     "data": {
      "text/plain": [
       "898"
      ]
     },
     "execution_count": 3,
     "metadata": {},
     "output_type": "execute_result"
    }
   ],
   "source": [
    "from math import gcd\n",
    "\n",
    "res = set()\n",
    "for ch, antennas in channels.items():\n",
    "\tfor s, a1 in enumerate(antennas):\n",
    "\t\tfor a2 in antennas[s + 1:]:\n",
    "\t\t\tdx, dy = a2[0] - a1[0], a2[1] - a1[1]\n",
    "\t\t\tdiv = gcd(dx, dy)\n",
    "\t\t\tstep = dx // div, dy // div\n",
    "\t\t\tfor direction in (-1, 1):\n",
    "\t\t\t\tp = a1\n",
    "\t\t\t\twhile 0 <= p[0] < len(board) and 0 <= p[1] < len(board[0]):\n",
    "\t\t\t\t\tres.add(p)\n",
    "\t\t\t\t\tp = p[0] + direction * step[0], p[1] + direction * step[1]\n",
    "len(res)"
   ]
  }
 ],
 "metadata": {
  "kernelspec": {
   "display_name": "Python 3",
   "language": "python",
   "name": "python3"
  },
  "language_info": {
   "codemirror_mode": {
    "name": "ipython",
    "version": 3
   },
   "file_extension": ".py",
   "mimetype": "text/x-python",
   "name": "python",
   "nbconvert_exporter": "python",
   "pygments_lexer": "ipython3",
   "version": "3.11.8"
  }
 },
 "nbformat": 4,
 "nbformat_minor": 2
}
