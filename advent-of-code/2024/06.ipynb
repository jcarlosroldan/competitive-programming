{
 "cells": [
  {
   "cell_type": "code",
   "execution_count": 1,
   "metadata": {},
   "outputs": [],
   "source": [
    "from simpler import load\n",
    "\n",
    "data = load('6.txt')\n",
    "board = data.strip().split('\\n')"
   ]
  },
  {
   "cell_type": "code",
   "execution_count": 2,
   "metadata": {},
   "outputs": [
    {
     "data": {
      "text/plain": [
       "4982"
      ]
     },
     "execution_count": 2,
     "metadata": {},
     "output_type": "execute_result"
    }
   ],
   "source": [
    "DIRS = (-1, 0), (0, 1), (1, 0), (0, -1)\n",
    "\n",
    "start = next(r for r, row in enumerate(board) if '^' in row)\n",
    "start = start, board[start].index('^')\n",
    "\n",
    "d = 0\n",
    "steps = 1\n",
    "p = start\n",
    "while True:\n",
    "\tr, c = p[0] + DIRS[d][0], p[1] + DIRS[d][1]\n",
    "\tif not (0 <= r < len(board) and 0 <= c < len(board[0])): break\n",
    "\tif board[r][c] == '#':\n",
    "\t\td = (d + 1) % 4\n",
    "\telse:\n",
    "\t\tif board[r][c] == '.':\n",
    "\t\t\tboard[r] = board[r][:c] + 'X' + board[r][c + 1:]\n",
    "\t\t\tsteps += 1\n",
    "\t\tp = r, c\n",
    "steps"
   ]
  },
  {
   "cell_type": "code",
   "execution_count": 3,
   "metadata": {},
   "outputs": [
    {
     "data": {
      "text/plain": [
       "1663"
      ]
     },
     "execution_count": 3,
     "metadata": {},
     "output_type": "execute_result"
    }
   ],
   "source": [
    "def walk_loops(board, p):\n",
    "\tboard = [row[:] for row in board]\n",
    "\td = 0\n",
    "\tprevs = set()\n",
    "\twhile True:\n",
    "\t\tr, c = p[0] + DIRS[d][0], p[1] + DIRS[d][1]\n",
    "\t\tif not (0 <= r < len(board) and 0 <= c < len(board[0])): return False\n",
    "\t\tif board[r][c] == '#':\n",
    "\t\t\td = (d + 1) % 4\n",
    "\t\telse:\n",
    "\t\t\tif board[r][c] in '.^X':\n",
    "\t\t\t\tif (r, c, d) in prevs: return True\n",
    "\t\t\t\tprevs.add((r, c, d))\n",
    "\t\t\tp = r, c\n",
    "\n",
    "res = 0\n",
    "for r in range(len(board)):\n",
    "\tfor c in range(len(board[0])):\n",
    "\t\t# only need to check the positions where it walked in the previous problem\n",
    "\t\tif board[r][c] == 'X':\n",
    "\t\t\tboard2 = [row[:] for row in board]\n",
    "\t\t\tboard2[r] = board2[r][:c] + '#' + board2[r][c + 1:]\n",
    "\t\t\tif walk_loops(board2, start): res += 1\n",
    "res"
   ]
  }
 ],
 "metadata": {
  "kernelspec": {
   "display_name": "Python 3",
   "language": "python",
   "name": "python3"
  },
  "language_info": {
   "codemirror_mode": {
    "name": "ipython",
    "version": 3
   },
   "file_extension": ".py",
   "mimetype": "text/x-python",
   "name": "python",
   "nbconvert_exporter": "python",
   "pygments_lexer": "ipython3",
   "version": "3.11.8"
  }
 },
 "nbformat": 4,
 "nbformat_minor": 2
}
