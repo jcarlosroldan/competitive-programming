{
 "cells": [
  {
   "cell_type": "code",
   "execution_count": 1,
   "metadata": {},
   "outputs": [],
   "source": [
    "from simpler import load\n",
    "from re import findall\n",
    "\n",
    "data = load('13.txt')\n",
    "RE_PROBLEM = r'Button A: X\\+(\\d+), Y\\+(\\d+)\\nButton B: X\\+(\\d+), Y\\+(\\d+)\\nPrize: X=(\\d+), Y=(\\d+)'\n",
    "\n",
    "problems = [tuple(map(int, p)) for p in findall(RE_PROBLEM, data.strip())]"
   ]
  },
  {
   "cell_type": "code",
   "execution_count": 2,
   "metadata": {},
   "outputs": [
    {
     "data": {
      "text/plain": [
       "33209"
      ]
     },
     "execution_count": 2,
     "metadata": {},
     "output_type": "execute_result"
    }
   ],
   "source": [
    "from fractions import Fraction\n",
    "\n",
    "def solve(ax, ay, bx, by, px, py):\n",
    "\tax, ay, bx, by, px, py = map(Fraction, (ax, ay, bx, by, px, py))\n",
    "\tb = ((ay * px) / ax - py) / ((ay * bx / ax) - by)\n",
    "\ta = (px - bx * b) / ax\n",
    "\tif a.denominator == 1 and b.denominator == 1: return (3 * a + b).numerator\n",
    "\treturn float('inf')\n",
    "\n",
    "res = 0\n",
    "for ax, ay, bx, by, px, py in problems:\n",
    "\tcost = solve(ax, ay, bx, by, px, py)\n",
    "\tif cost < float('inf'): res += cost\n",
    "res"
   ]
  },
  {
   "cell_type": "code",
   "execution_count": 3,
   "metadata": {},
   "outputs": [
    {
     "data": {
      "text/plain": [
       "83102355665474"
      ]
     },
     "execution_count": 3,
     "metadata": {},
     "output_type": "execute_result"
    }
   ],
   "source": [
    "res = 0\n",
    "for ax, ay, bx, by, px, py in problems:\n",
    "\tcost = solve(ax, ay, bx, by, 10000000000000 + px, 10000000000000 + py)\n",
    "\tif cost < float('inf'): res += cost\n",
    "res"
   ]
  }
 ],
 "metadata": {
  "kernelspec": {
   "display_name": "Python 3",
   "language": "python",
   "name": "python3"
  },
  "language_info": {
   "codemirror_mode": {
    "name": "ipython",
    "version": 3
   },
   "file_extension": ".py",
   "mimetype": "text/x-python",
   "name": "python",
   "nbconvert_exporter": "python",
   "pygments_lexer": "ipython3",
   "version": "3.11.8"
  }
 },
 "nbformat": 4,
 "nbformat_minor": 2
}
