{
 "cells": [
  {
   "cell_type": "code",
   "execution_count": 1,
   "metadata": {},
   "outputs": [],
   "source": [
    "from simpler import load\n",
    "\n",
    "data = load('5.txt')"
   ]
  },
  {
   "cell_type": "code",
   "execution_count": 2,
   "metadata": {},
   "outputs": [
    {
     "data": {
      "text/plain": [
       "5268"
      ]
     },
     "execution_count": 2,
     "metadata": {},
     "output_type": "execute_result"
    }
   ],
   "source": [
    "rules, updates = data.strip().split('\\n\\n')\n",
    "updates = [list(map(int, u.split(','))) for u in updates.split('\\n')]\n",
    "last_page = max(max(update) for update in updates)\n",
    "\n",
    "before = {n: set() for n in range(last_page + 1)}\n",
    "for rule in rules.split('\\n'):\n",
    "\tp1, p2 = map(int, rule.split('|'))\n",
    "\tbefore[p2].add(p1)\n",
    "\n",
    "res = 0\n",
    "incorrect_updates = []\n",
    "for update in updates:\n",
    "\tfor p, page in enumerate(update):\n",
    "\t\tif any(page in before[b] for b in update[:p]):\n",
    "\t\t\tincorrect_updates.append(update)\n",
    "\t\t\tbreak\n",
    "\telse:\n",
    "\t\tres += update[len(update) // 2]\n",
    "res"
   ]
  },
  {
   "cell_type": "code",
   "execution_count": 3,
   "metadata": {},
   "outputs": [
    {
     "data": {
      "text/plain": [
       "5799"
      ]
     },
     "execution_count": 3,
     "metadata": {},
     "output_type": "execute_result"
    }
   ],
   "source": [
    "res = 0\n",
    "for update in incorrect_updates:\n",
    "\t# hacky bruteforce using lambdas to compare sets\n",
    "\t# toposort library would be more efficient but this dataset is too small to waste time\n",
    "\tupdate = sorted(update, key=lambda n: {p for p in before[n] if p in update})\n",
    "\tres += update[len(update) // 2]\n",
    "\n",
    "res"
   ]
  }
 ],
 "metadata": {
  "kernelspec": {
   "display_name": "Python 3",
   "language": "python",
   "name": "python3"
  },
  "language_info": {
   "codemirror_mode": {
    "name": "ipython",
    "version": 3
   },
   "file_extension": ".py",
   "mimetype": "text/x-python",
   "name": "python",
   "nbconvert_exporter": "python",
   "pygments_lexer": "ipython3",
   "version": "3.11.8"
  }
 },
 "nbformat": 4,
 "nbformat_minor": 2
}
