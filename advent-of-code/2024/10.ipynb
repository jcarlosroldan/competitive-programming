{
 "cells": [
  {
   "cell_type": "code",
   "execution_count": 1,
   "metadata": {},
   "outputs": [],
   "source": [
    "from simpler import load\n",
    "\n",
    "data = load('10.txt')\n",
    "board = data.strip().split('\\n')"
   ]
  },
  {
   "cell_type": "code",
   "execution_count": 2,
   "metadata": {},
   "outputs": [
    {
     "data": {
      "text/plain": [
       "531"
      ]
     },
     "execution_count": 2,
     "metadata": {},
     "output_type": "execute_result"
    }
   ],
   "source": [
    "from networkx import DiGraph, has_path\n",
    "\n",
    "NEIGHBORS = (-1, 0), (0, -1), (0, 1), (1, 0)\n",
    "\n",
    "starts, ends = [], []\n",
    "g = DiGraph()\n",
    "for r, row in enumerate(board):\n",
    "\tfor c, cell in enumerate(row):\n",
    "\t\tif cell == '0': starts.append((r, c))\n",
    "\t\telif cell == '9': ends.append((r, c))\n",
    "\t\tfor r_off, c_off in NEIGHBORS:\n",
    "\t\t\tnr, nc = r + r_off, c + c_off\n",
    "\t\t\tif 0 <= nr < len(board) and 0 <= nc < len(board[0]) and int(board[nr][nc]) == int(cell) + 1:\n",
    "\t\t\t\tg.add_edge((r, c), (nr, nc))\n",
    "\n",
    "res = 0\n",
    "for start in starts:\n",
    "\tfor end in ends:\n",
    "\t\tif has_path(g, start, end):\n",
    "\t\t\tres += 1\n",
    "res"
   ]
  },
  {
   "cell_type": "code",
   "execution_count": 3,
   "metadata": {},
   "outputs": [
    {
     "data": {
      "text/plain": [
       "1210"
      ]
     },
     "execution_count": 3,
     "metadata": {},
     "output_type": "execute_result"
    }
   ],
   "source": [
    "from networkx import all_shortest_paths\n",
    "\n",
    "res = 0\n",
    "for start in starts:\n",
    "\tfor end in ends:\n",
    "\t\tif has_path(g, start, end):\n",
    "\t\t\tres += len(list(all_shortest_paths(g, start, end)))\n",
    "res"
   ]
  }
 ],
 "metadata": {
  "kernelspec": {
   "display_name": "Python 3",
   "language": "python",
   "name": "python3"
  },
  "language_info": {
   "codemirror_mode": {
    "name": "ipython",
    "version": 3
   },
   "file_extension": ".py",
   "mimetype": "text/x-python",
   "name": "python",
   "nbconvert_exporter": "python",
   "pygments_lexer": "ipython3",
   "version": "3.11.8"
  }
 },
 "nbformat": 4,
 "nbformat_minor": 2
}
