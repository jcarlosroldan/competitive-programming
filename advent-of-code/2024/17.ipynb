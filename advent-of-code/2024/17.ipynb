{
 "cells": [
  {
   "cell_type": "code",
   "execution_count": 1,
   "metadata": {},
   "outputs": [],
   "source": [
    "from simpler import load\n",
    "\n",
    "data = load('17.txt')\n",
    "\n",
    "registers, program = data.strip().split('\\n\\n')\n",
    "registers = [int(r.split(': ')[1]) for r in registers.split('\\n')]\n",
    "program = tuple(map(int, program.split(': ')[1].split(',')))\n",
    "program = tuple(zip(program[::2], program[1::2]))"
   ]
  },
  {
   "cell_type": "code",
   "execution_count": 2,
   "metadata": {},
   "outputs": [
    {
     "data": {
      "text/plain": [
       "'6,5,4,7,1,6,0,3,1'"
      ]
     },
     "execution_count": 2,
     "metadata": {},
     "output_type": "execute_result"
    }
   ],
   "source": [
    "def run(registers, program):\n",
    "\tregisters = registers[:]\n",
    "\tinstruction_pointer = 0\n",
    "\twhile 0 <= instruction_pointer < len(program):\n",
    "\t\top, literal = program[instruction_pointer]\n",
    "\t\tcombo = literal if literal <= 3 else registers[literal - 4]\n",
    "\t\tinstruction_pointer += 1\n",
    "\t\tif op == 0: registers[0] //= 2**combo\n",
    "\t\telif op == 1: registers[1] ^= literal\n",
    "\t\telif op == 2: registers[1] = combo % 8\n",
    "\t\telif op == 3: registers[0] != 0 and (instruction_pointer := literal // 2)\n",
    "\t\telif op == 4: registers[1] = registers[1] ^ registers[2]\n",
    "\t\telif op == 5: yield combo % 8\n",
    "\t\telif op == 6: registers[1] = registers[0] // 2**combo\n",
    "\t\telif op == 7: registers[2] = registers[0] // 2**combo\n",
    "\n",
    "','.join(map(str, run(registers, program)))"
   ]
  },
  {
   "cell_type": "code",
   "execution_count": 3,
   "metadata": {},
   "outputs": [
    {
     "data": {
      "text/plain": [
       "True"
      ]
     },
     "execution_count": 3,
     "metadata": {},
     "output_type": "execute_result"
    }
   ],
   "source": [
    "def run_bitwise(a):  # translation of the submit program to bitwise:\n",
    "\twhile True:\n",
    "\t\tb = a & 0b111  # b is a function of a\n",
    "\t\tb = b ^ 0b101\n",
    "\t\tc = a >> b  # c is also a function of a\n",
    "\t\tb = b ^ 0b110\n",
    "\t\ta = a >> 3  # each iteration a is shifted right by 3\n",
    "\t\tb = b ^ c\n",
    "\t\tyield b & 0b111  # output is b\n",
    "\t\tif a == 0: break\n",
    "\n",
    "all(  # sanity check\n",
    "\ttuple(run([n, 0, 0], program)) == tuple(run_bitwise(n))\n",
    "\tfor n in range(10000)\n",
    ")"
   ]
  },
  {
   "cell_type": "markdown",
   "metadata": {},
   "source": [
    "On each iteration, the number output is only dependent on a. That means that we can build it up starting from zero and shifting to find the next 3 bit offset each time."
   ]
  },
  {
   "cell_type": "code",
   "execution_count": 4,
   "metadata": {},
   "outputs": [
    {
     "data": {
      "text/plain": [
       "106086382266778"
      ]
     },
     "execution_count": 4,
     "metadata": {},
     "output_type": "execute_result"
    }
   ],
   "source": [
    "program_flat = tuple(b for instruction in program for b in instruction)\n",
    "\n",
    "candidates = [0]\n",
    "for i in range(len(program_flat)):\n",
    "\tnext_candidates = []\n",
    "\tfor c in candidates:\n",
    "\t\tfor word in range(1 << 3):\n",
    "\t\t\tn = c << 3 | word\n",
    "\t\t\tif tuple(run_bitwise(n)) == program_flat[-i - 1:]:\n",
    "\t\t\t\tnext_candidates.append(n)\n",
    "\tcandidates = next_candidates\n",
    "\n",
    "min(candidates)"
   ]
  }
 ],
 "metadata": {
  "kernelspec": {
   "display_name": "Python 3",
   "language": "python",
   "name": "python3"
  },
  "language_info": {
   "codemirror_mode": {
    "name": "ipython",
    "version": 3
   },
   "file_extension": ".py",
   "mimetype": "text/x-python",
   "name": "python",
   "nbconvert_exporter": "python",
   "pygments_lexer": "ipython3",
   "version": "3.11.8"
  }
 },
 "nbformat": 4,
 "nbformat_minor": 2
}
