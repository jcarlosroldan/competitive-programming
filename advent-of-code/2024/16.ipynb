{
 "cells": [
  {
   "cell_type": "code",
   "execution_count": 1,
   "metadata": {},
   "outputs": [],
   "source": [
    "from simpler import load\n",
    "\n",
    "data = load('16.txt')\n",
    "board = [row for row in data.split('\\n') if row]\n",
    "start = len(board) - 2, 1\n",
    "end = 1, len(board[0]) - 2"
   ]
  },
  {
   "cell_type": "code",
   "execution_count": 2,
   "metadata": {},
   "outputs": [
    {
     "data": {
      "text/plain": [
       "83432"
      ]
     },
     "execution_count": 2,
     "metadata": {},
     "output_type": "execute_result"
    }
   ],
   "source": [
    "from networkx import DiGraph, shortest_path_length\n",
    "\n",
    "DIRS = [(0, 1), (1, 0), (0, -1), (-1, 0)]  # E, S, W, N\n",
    "\n",
    "g = DiGraph()\n",
    "for r, row in enumerate(board):\n",
    "\tfor c, cell in enumerate(row):\n",
    "\t\tif cell != '#':\n",
    "\t\t\tfor d in range(4):\n",
    "\t\t\t\tg.add_edge((r, c, d), (r, c, (d + 1) % 4), score=1000)\n",
    "\t\t\t\tg.add_edge((r, c, d), (r, c, (d - 1) % 4), score=1000)\n",
    "\t\t\t\tnr, nc = r + DIRS[d][0], c + DIRS[d][1]\n",
    "\t\t\t\tif board[nr][nc] != '#':\n",
    "\t\t\t\t\tg.add_edge((r, c, d), (nr, nc, d), score=1)\n",
    "\n",
    "min(shortest_path_length(g, (*start, 0), (*end, d), weight='score') for d in range(4))"
   ]
  },
  {
   "cell_type": "code",
   "execution_count": 3,
   "metadata": {},
   "outputs": [
    {
     "data": {
      "text/plain": [
       "467"
      ]
     },
     "execution_count": 3,
     "metadata": {},
     "output_type": "execute_result"
    }
   ],
   "source": [
    "from networkx import all_shortest_paths\n",
    "\n",
    "seats = set()\n",
    "for path in all_shortest_paths(g, (*start, 0), (*end, 0), weight='score'):\n",
    "\tfor r, c, d in path:\n",
    "\t\tseats.add((r, c))\n",
    "len(seats)"
   ]
  }
 ],
 "metadata": {
  "kernelspec": {
   "display_name": "Python 3",
   "language": "python",
   "name": "python3"
  },
  "language_info": {
   "codemirror_mode": {
    "name": "ipython",
    "version": 3
   },
   "file_extension": ".py",
   "mimetype": "text/x-python",
   "name": "python",
   "nbconvert_exporter": "python",
   "pygments_lexer": "ipython3",
   "version": "3.11.8"
  }
 },
 "nbformat": 4,
 "nbformat_minor": 2
}
