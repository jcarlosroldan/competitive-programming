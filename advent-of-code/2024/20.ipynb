{
 "cells": [
  {
   "cell_type": "code",
   "execution_count": 1,
   "metadata": {},
   "outputs": [],
   "source": [
    "from simpler import load\n",
    "\n",
    "board = load('20.txt')\n",
    "board = [list(row) for row in board.strip().split('\\n')]"
   ]
  },
  {
   "cell_type": "code",
   "execution_count": 2,
   "metadata": {},
   "outputs": [],
   "source": [
    "NEIGHBORS = (-1, 0), (0, -1), (1, 0), (0, 1)\n",
    "\n",
    "position = next((r, c) for r, row in enumerate(board) for c, cell in enumerate(row) if cell == 'S')\n",
    "goal = next((r, c) for r, row in enumerate(board) for c, cell in enumerate(row) if cell == 'E')\n",
    "n = 0\n",
    "\n",
    "while True:\n",
    "\tboard[position[0]][position[1]] = n\n",
    "\tif position == goal: break\n",
    "\tfor nr, nc in NEIGHBORS:\n",
    "\t\tneighbor = position[0] + nr, position[1] + nc\n",
    "\t\tif board[neighbor[0]][neighbor[1]] in ('.', 'E'):\n",
    "\t\t\tposition = neighbor\n",
    "\t\t\tn += 1\n",
    "\t\t\tbreak"
   ]
  },
  {
   "cell_type": "code",
   "execution_count": 3,
   "metadata": {},
   "outputs": [
    {
     "data": {
      "text/plain": [
       "1490"
      ]
     },
     "execution_count": 3,
     "metadata": {},
     "output_type": "execute_result"
    }
   ],
   "source": [
    "def cheats_at_least(n):\n",
    "\tres = 0\n",
    "\tfor r in range(1, len(board) - 1):\n",
    "\t\tfor c in range(1, len(board[0]) - 1):\n",
    "\t\t\tif board[r - 1][c] != '#' and board[r + 1][c] != '#' and abs(board[r - 1][c] - board[r + 1][c]) - 2 >= n: res += 1\n",
    "\t\t\tif board[r][c - 1] != '#' and board[r][c + 1] != '#' and abs(board[r][c - 1] - board[r][c + 1]) - 2 >= n: res += 1\n",
    "\treturn res\n",
    "\n",
    "cheats_at_least(100)"
   ]
  },
  {
   "cell_type": "code",
   "execution_count": 4,
   "metadata": {},
   "outputs": [
    {
     "data": {
      "text/plain": [
       "1011325"
      ]
     },
     "execution_count": 4,
     "metadata": {},
     "output_type": "execute_result"
    }
   ],
   "source": [
    "def cheats_at_least(n):\n",
    "\tres = 0\n",
    "\tfor r in range(len(board)):\n",
    "\t\tfor c in range(len(board[0])):\n",
    "\t\t\tif board[r][c] == '#': continue\n",
    "\t\t\tfor off_r in range(-20, 21):\n",
    "\t\t\t\tfor off_c in range(-20, 21):\n",
    "\t\t\t\t\ttime = abs(off_r) + abs(off_c)\n",
    "\t\t\t\t\tif time > 20: continue\n",
    "\t\t\t\t\tif not (0 <= r + off_r < len(board) and 0 <= c + off_c < len(board)): continue\n",
    "\t\t\t\t\tp = board[r + off_r][c + off_c]\n",
    "\t\t\t\t\tif p != '#' and abs(p - board[r][c]) - time >= n:\n",
    "\t\t\t\t\t\tres += 1\n",
    "\treturn res // 2\n",
    "\n",
    "cheats_at_least(100)"
   ]
  }
 ],
 "metadata": {
  "kernelspec": {
   "display_name": "Python 3",
   "language": "python",
   "name": "python3"
  },
  "language_info": {
   "codemirror_mode": {
    "name": "ipython",
    "version": 3
   },
   "file_extension": ".py",
   "mimetype": "text/x-python",
   "name": "python",
   "nbconvert_exporter": "python",
   "pygments_lexer": "ipython3",
   "version": "3.12.8"
  }
 },
 "nbformat": 4,
 "nbformat_minor": 2
}
