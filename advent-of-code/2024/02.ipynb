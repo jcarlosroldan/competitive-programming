{
 "cells": [
  {
   "cell_type": "code",
   "execution_count": 1,
   "metadata": {},
   "outputs": [],
   "source": [
    "from simpler import load\n",
    "\n",
    "data = load('2.txt')\n",
    "reports = [list(map(int, line.split())) for line in data.strip().split('\\n')]"
   ]
  },
  {
   "cell_type": "code",
   "execution_count": 2,
   "metadata": {},
   "outputs": [
    {
     "data": {
      "text/plain": [
       "371"
      ]
     },
     "execution_count": 2,
     "metadata": {},
     "output_type": "execute_result"
    }
   ],
   "source": [
    "def is_safe(report):\n",
    "\tdiffs = [r2 - r1 for r1, r2 in zip(report, report[1:])]\n",
    "\tif not all(1 <= abs(d) <= 3 for d in diffs): return False\n",
    "\tif any(d > 0 for d in diffs) and any(d < 0 for d in diffs): return False\n",
    "\treturn True\n",
    "\n",
    "sum(1 for r in reports if is_safe(r))"
   ]
  },
  {
   "cell_type": "code",
   "execution_count": 3,
   "metadata": {},
   "outputs": [
    {
     "data": {
      "text/plain": [
       "426"
      ]
     },
     "execution_count": 3,
     "metadata": {},
     "output_type": "execute_result"
    }
   ],
   "source": [
    "def is_safe_dampened(report):  # longest report is 8, let's just bruteforce\n",
    "\tif is_safe(report): return True\n",
    "\treturn any(\n",
    "\t\tis_safe(report[:i] + report[i + 1:])\n",
    "\t\tfor i in range(len(report))\n",
    "\t)\n",
    "\n",
    "sum(1 for r in reports if is_safe_dampened(r))"
   ]
  }
 ],
 "metadata": {
  "kernelspec": {
   "display_name": "Python 3",
   "language": "python",
   "name": "python3"
  },
  "language_info": {
   "codemirror_mode": {
    "name": "ipython",
    "version": 3
   },
   "file_extension": ".py",
   "mimetype": "text/x-python",
   "name": "python",
   "nbconvert_exporter": "python",
   "pygments_lexer": "ipython3",
   "version": "3.11.8"
  }
 },
 "nbformat": 4,
 "nbformat_minor": 2
}
