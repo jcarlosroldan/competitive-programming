{
 "cells": [
  {
   "cell_type": "code",
   "execution_count": 1,
   "metadata": {},
   "outputs": [],
   "source": [
    "from simpler import load\n",
    "\n",
    "table = load('4.txt').strip().split('\\n')"
   ]
  },
  {
   "cell_type": "code",
   "execution_count": 2,
   "metadata": {},
   "outputs": [
    {
     "data": {
      "text/plain": [
       "2358"
      ]
     },
     "execution_count": 2,
     "metadata": {},
     "output_type": "execute_result"
    }
   ],
   "source": [
    "times = 0\n",
    "# horizontal\n",
    "for line in table:\n",
    "\ttimes += line.count('XMAS') + line[::-1].count('XMAS')\n",
    "# vertical\n",
    "for c in range(len(table[0])):\n",
    "\tline = ''.join(row[c] for row in table)\n",
    "\ttimes += line.count('XMAS') + line[::-1].count('XMAS')\n",
    "# diagonal\n",
    "for r in range(len(table)):\n",
    "\tline = ''.join(table[r + o][o] for o in range(len(table) - r))\n",
    "\ttimes += line.count('XMAS') + line[::-1].count('XMAS')\n",
    "\tline = ''.join(table[r + o][len(table) - 1 - o] for o in range(len(table) - r))\n",
    "\ttimes += line.count('XMAS') + line[::-1].count('XMAS')\n",
    "\tif r != 0:\n",
    "\t\tline = ''.join(table[len(table) - 1 - r - o][o] for o in range(len(table) - r))\n",
    "\t\ttimes += line.count('XMAS') + line[::-1].count('XMAS')\n",
    "\t\tline = ''.join(table[len(table) - 1 - r - o][len(table) - 1 - o] for o in range(len(table) - r))\n",
    "\t\ttimes += line.count('XMAS') + line[::-1].count('XMAS')\n",
    "\n",
    "times"
   ]
  },
  {
   "cell_type": "code",
   "execution_count": 3,
   "metadata": {},
   "outputs": [
    {
     "data": {
      "text/plain": [
       "1737"
      ]
     },
     "execution_count": 3,
     "metadata": {},
     "output_type": "execute_result"
    }
   ],
   "source": [
    "times = 0\n",
    "for r in range(1, len(table) - 1):\n",
    "\tfor c in range(1, len(table) - 1):\n",
    "\t\tif table[r][c] == 'A':\n",
    "\t\t\tcorners = table[r - 1][c - 1] + table[r - 1][c + 1] + table[r + 1][c - 1] + table[r + 1][c + 1]\n",
    "\t\t\tif corners in ('MMSS', 'SMSM', 'SSMM', 'MSMS'):\n",
    "\t\t\t\ttimes += 1\n",
    "\n",
    "times"
   ]
  }
 ],
 "metadata": {
  "kernelspec": {
   "display_name": "Python 3",
   "language": "python",
   "name": "python3"
  },
  "language_info": {
   "codemirror_mode": {
    "name": "ipython",
    "version": 3
   },
   "file_extension": ".py",
   "mimetype": "text/x-python",
   "name": "python",
   "nbconvert_exporter": "python",
   "pygments_lexer": "ipython3",
   "version": "3.11.8"
  }
 },
 "nbformat": 4,
 "nbformat_minor": 2
}
