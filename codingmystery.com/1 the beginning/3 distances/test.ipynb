{
 "cells": [
  {
   "cell_type": "code",
   "execution_count": 6,
   "metadata": {},
   "outputs": [
    {
     "name": "stdout",
     "output_type": "stream",
     "text": [
      "20029\n"
     ]
    }
   ],
   "source": [
    "from simpler import load\n",
    "\n",
    "particles = []\n",
    "center = None\n",
    "for r, row in enumerate(load('2d Grid Of Particles.txt').split('\\n')[3:]):\n",
    "\tfor c, char in enumerate(row):\n",
    "\t\tif char == '•':\n",
    "\t\t\tparticles.append((c, r))\n",
    "\t\telif char == 'C':\n",
    "\t\t\tcenter = c, r\n",
    "\n",
    "print(sum(abs(x - center[0]) + abs(y - center[1]) for x, y in particles))"
   ]
  }
 ],
 "metadata": {
  "interpreter": {
   "hash": "63fd5069d213b44bf678585dea6b12cceca9941eaf7f819626cde1f2670de90d"
  },
  "kernelspec": {
   "display_name": "Python 3.9.1 64-bit",
   "language": "python",
   "name": "python3"
  },
  "language_info": {
   "codemirror_mode": {
    "name": "ipython",
    "version": 3
   },
   "file_extension": ".py",
   "mimetype": "text/x-python",
   "name": "python",
   "nbconvert_exporter": "python",
   "pygments_lexer": "ipython3",
   "version": "3.9.1"
  },
  "orig_nbformat": 4
 },
 "nbformat": 4,
 "nbformat_minor": 2
}
