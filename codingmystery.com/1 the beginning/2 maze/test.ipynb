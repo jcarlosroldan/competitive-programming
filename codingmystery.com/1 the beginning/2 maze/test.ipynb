{
 "cells": [
  {
   "cell_type": "code",
   "execution_count": 20,
   "metadata": {},
   "outputs": [
    {
     "name": "stdout",
     "output_type": "stream",
     "text": [
      "94 12\n"
     ]
    }
   ],
   "source": [
    "from simpler import load, save\n",
    "\n",
    "X, Y = 4, 22\n",
    "_maze = load('Map Of The Tunnels.txt').split('\\n')\n",
    "def maze(x, y, value=None):\n",
    "\tif value:\n",
    "\t\t_maze[y + 4] = _maze[y + 4][:x - 1] + value + _maze[y + 4][x:]\n",
    "\telse:\n",
    "\t\treturn _maze[y + 4][x - 1]\n",
    "\n",
    "translate = {'N': (0, -1), 'S': (0, 1), 'E': (1, 0), 'W': (-1, 0)}\n",
    "for line in load('List of Instructions.txt').strip().split('\\n'):\n",
    "\tfor i in line.split(', '):\n",
    "\t\tdx, dy = translate[i]\n",
    "\t\tnX, nY = X + dx, Y + dy\n",
    "\t\tif maze(nX, nY) != '█':\n",
    "\t\t\tX, Y = nX, nY\n",
    "\t\t\tmaze(X, Y, '·')\n",
    "print(X, Y)"
   ]
  }
 ],
 "metadata": {
  "interpreter": {
   "hash": "63fd5069d213b44bf678585dea6b12cceca9941eaf7f819626cde1f2670de90d"
  },
  "kernelspec": {
   "display_name": "Python 3.9.1 64-bit",
   "language": "python",
   "name": "python3"
  },
  "language_info": {
   "codemirror_mode": {
    "name": "ipython",
    "version": 3
   },
   "file_extension": ".py",
   "mimetype": "text/x-python",
   "name": "python",
   "nbconvert_exporter": "python",
   "pygments_lexer": "ipython3",
   "version": "3.9.1"
  },
  "orig_nbformat": 4
 },
 "nbformat": 4,
 "nbformat_minor": 2
}
