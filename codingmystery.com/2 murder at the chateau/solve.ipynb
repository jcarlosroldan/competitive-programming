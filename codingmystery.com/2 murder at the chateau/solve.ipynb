{
 "cells": [
  {
   "cell_type": "code",
   "execution_count": 2,
   "metadata": {},
   "outputs": [
    {
     "data": {
      "text/plain": [
       "'4th Floor Wine Room'"
      ]
     },
     "execution_count": 2,
     "metadata": {},
     "output_type": "execute_result"
    }
   ],
   "source": [
    "from simpler import load\n",
    "from re import findall\n",
    "\n",
    "words = [r[0] for r in findall(r'(\\w+( \\w+)*)', load('Estate Floor Plan.txt'))]\n",
    "rooms = []\n",
    "for word in words:\n",
    "\tif 'Floor' in word or 'Basement' in word or 'Cellar' in word:\n",
    "\t\tfloor = word\n",
    "\telse:\n",
    "\t\trooms.append(f'{floor} {word}')\n",
    "\n",
    "statements = {k: v for k, v in findall(r'(.+?), .+? \\'(.+?)\\'', load('List Of Statements.txt'))}\n",
    "next(r for r in rooms if r not in statements.values())"
   ]
  },
  {
   "cell_type": "code",
   "execution_count": 3,
   "metadata": {},
   "outputs": [
    {
     "data": {
      "text/plain": [
       "'Elise Duverger, Maurice Thibodeaux, Clément Chauveau'"
      ]
     },
     "execution_count": 3,
     "metadata": {},
     "output_type": "execute_result"
    }
   ],
   "source": [
    "file = load('New List Of Statements.txt')\n",
    "people = findall(r'(.+?) said.+?\\n', file)\n",
    "', '.join(p for p in people if file.count(p) == 1)"
   ]
  },
  {
   "cell_type": "code",
   "execution_count": 3,
   "metadata": {},
   "outputs": [],
   "source": [
    "traces = load('Object DNA Traces.txt').split('\\n')[1::3]\n",
    "samples = load('Suspects And Victim Dna Samples.txt').split('\\n')\n",
    "samples = {k: v for k, v in zip(samples[::3], samples[1::3])}\n",
    "\n",
    "def lcps(x, y):\n",
    "\t''' Longest Common Palindrome Subsequence of two strings. '''\n",
    "\treturn _lcps(x, y, 0, len(x) - 1, 0, len(y) - 1)\n",
    "\n",
    "# TODO will never end, see https://link.springer.com/chapter/10.1007/978-3-642-35926-2_24 instead\n",
    "def _lcps(x, y, x0, x1, y0, y1):\n",
    "\tif x0 > x1 or y0 > y1: return 0\n",
    "\tif x0 == x1 and y0 == y1 and x[x0] == x[x1] == y[y0] == y[y1]: return 1\n",
    "\tif x0 < x1 and y0 < y1 and x[x0] == x[x1] == y[y0] == y[y1]: return 2 + lcps(x, y, x0+1, x1-1, y0+1, y1-1)\n",
    "\treturn max(\n",
    "\t\t_lcps(x, y, x0 + 1, x1, y0, y1),\n",
    "\t\tlcps(x, y, x0, x1 - 1, y0, y1),\n",
    "\t\tlcps(x, y, x0, x1, y0 + 1, y1),\n",
    "\t\tlcps(x, y, x0, x1, y0, y1 - 1)\n",
    "\t)\n",
    "\n",
    "for suspect, sample in samples.items():\n",
    "\tfor t, trace in enumerate(traces):\n",
    "\t\tprint(suspect, t, lcps(trace, sample))"
   ]
  }
 ],
 "metadata": {
  "interpreter": {
   "hash": "63fd5069d213b44bf678585dea6b12cceca9941eaf7f819626cde1f2670de90d"
  },
  "kernelspec": {
   "display_name": "Python 3.9.1 64-bit",
   "language": "python",
   "name": "python3"
  },
  "language_info": {
   "codemirror_mode": {
    "name": "ipython",
    "version": 3
   },
   "file_extension": ".py",
   "mimetype": "text/x-python",
   "name": "python",
   "nbconvert_exporter": "python",
   "pygments_lexer": "ipython3",
   "version": "3.9.1"
  },
  "orig_nbformat": 4
 },
 "nbformat": 4,
 "nbformat_minor": 2
}
